{
 "cells": [
  {
   "cell_type": "code",
   "execution_count": 1,
   "id": "207c6d3a",
   "metadata": {},
   "outputs": [
    {
     "name": "stdout",
     "output_type": "stream",
     "text": [
      "Posterior probabilities:  0.01923076923076923 0.09677419354838711 0.6086956521739131\n",
      "Overall probability of pregnancy:  0.7247006149530695\n"
     ]
    }
   ],
   "source": [
    "import numpy as np\n",
    "\n",
    "# Define prior probabilities of getting pregnant for each method\n",
    "prior_probs = np.array([0.15, 0.2, 0.4])\n",
    "\n",
    "# Define likelihood ratios for each method\n",
    "natural_lr = 0.1\n",
    "iui_lr = 0.3\n",
    "ivf_lr = 0.7\n",
    "\n",
    "# Define test results (1 for positive, 0 for negative)\n",
    "natural_test = 1\n",
    "iui_test = 0\n",
    "ivf_test = 1\n",
    "\n",
    "# Calculate posterior probabilities using Bayes' theorem\n",
    "natural_post = (natural_lr * prior_probs[0]) / ((natural_lr * prior_probs[0]) + ((1 - prior_probs[0]) * (1 - natural_lr)))\n",
    "iui_post = (iui_lr * prior_probs[1]) / ((iui_lr * prior_probs[1]) + ((1 - prior_probs[1]) * (1 - iui_lr)))\n",
    "ivf_post = (ivf_lr * prior_probs[2]) / ((ivf_lr * prior_probs[2]) + ((1 - prior_probs[2]) * (1 - ivf_lr)))\n",
    "\n",
    "# Calculate overall probability of pregnancy\n",
    "pregnancy_prob = np.sum([natural_post, iui_post, ivf_post])\n",
    "\n",
    "# Print results\n",
    "print(\"Posterior probabilities: \", natural_post, iui_post, ivf_post)\n",
    "print(\"Overall probability of pregnancy: \", pregnancy_prob)"
   ]
  },
  {
   "cell_type": "code",
   "execution_count": 2,
   "id": "f9300358",
   "metadata": {},
   "outputs": [
    {
     "name": "stdout",
     "output_type": "stream",
     "text": [
      "Posterior probabilities:  0.01923076923076923 0.09677419354838711 0.6086956521739131\n",
      "Overall probability of pregnancy:  0.7247006149530695\n"
     ]
    }
   ],
   "source": [
    "# Incorporate egg count numbers and past ovulation tracking\n",
    "egg_count = 10 # number of eggs\n",
    "ovulation_tracking = 0.8 # probability of ovulating\n",
    "natural_lr *= (ovulation_tracking * egg_count) / 100\n",
    "iui_lr *= (ovulation_tracking * egg_count) / 100\n",
    "ivf_lr *= (ovulation_tracking * egg_count) / 100\n",
    "\n",
    "# Print results\n",
    "print(\"Posterior probabilities: \", natural_post, iui_post, ivf_post)\n",
    "print(\"Overall probability of pregnancy: \", pregnancy_prob)"
   ]
  },
  {
   "cell_type": "code",
   "execution_count": 3,
   "id": "0dc90341",
   "metadata": {},
   "outputs": [
    {
     "name": "stdout",
     "output_type": "stream",
     "text": [
      "Posterior probabilities:  0.01923076923076923 0.09677419354838711 0.6086956521739131\n",
      "Overall probability of pregnancy:  0.7247006149530695\n",
      "Estimated time to pregnancy (months): 312.00000000000006 92.99999999999999 19.714285714285715\n"
     ]
    }
   ],
   "source": [
    "# Incorporate estimated time to pregnancy\n",
    "natural_time = 6 # months to conceive naturally on average\n",
    "iui_time = 9 # months to conceive with IUI on average\n",
    "ivf_time = 12 # months to conceive with IVF on average\n",
    "natural_lr /= natural_time\n",
    "iui_lr /= iui_time\n",
    "ivf_lr /= ivf_time\n",
    "\n",
    "# Calculate estimated time to pregnancy\n",
    "natural_time_to_pregnancy = 1 / natural_post * natural_time\n",
    "iui_time_to_pregnancy = 1 / iui_post * iui_time\n",
    "ivf_time_to_pregnancy = 1 / ivf_post * ivf_time\n",
    "\n",
    "# Print results\n",
    "print(\"Posterior probabilities: \", natural_post, iui_post, ivf_post)\n",
    "print(\"Overall probability of pregnancy: \", pregnancy_prob)\n",
    "print(\"Estimated time to pregnancy (months):\", natural_time_to_pregnancy, iui_time_to_pregnancy, ivf_time_to_pregnancy)"
   ]
  },
  {
   "cell_type": "code",
   "execution_count": 4,
   "id": "0524ee0e",
   "metadata": {},
   "outputs": [],
   "source": [
    "from flask import Flask, request, render_template\n",
    "import numpy as np\n",
    "\n",
    "app = Flask(__name__)\n",
    "\n",
    "@app.route('/')\n",
    "def home():\n",
    "    return render_template('home.html')\n",
    "\n",
    "@app.route('/predict', methods=['POST'])\n",
    "def predict():\n",
    "    # Get inputs from form data\n",
    "    egg_count = int(request.form['egg_count'])\n",
    "    ovulation_tracking = float(request.form['ovulation_tracking'])\n",
    "    natural_test = int(request.form['natural_test'])\n",
    "    iui_test = int(request.form['iui_test'])\n",
    "    ivf_test = int(request.form['ivf_test'])\n",
    "    \n",
    "    # Define prior probabilities of getting pregnant for each method\n",
    "    prior_probs = np.array([0.15, 0.2, 0.4])\n",
    "\n",
    "    # Define likelihood ratios for each method\n",
    "    natural_lr = 0.1\n",
    "    iui_lr = 0.3\n",
    "    ivf_lr = 0.7\n",
    "\n",
    "    # Incorporate egg count numbers and past ovulation tracking\n",
    "    natural_lr *= (ovulation_tracking * egg_count) / 100\n",
    "    iui_lr *= (ovulation_tracking * egg_count) / 100\n",
    "    ivf_lr *= (ovulation_tracking * egg_count) / 100\n",
    "\n",
    "    # Incorporate estimated time to pregnancy\n",
    "    natural_time = 6 # months to conceive naturally on average\n",
    "    iui_time = 9 # months to conceive with IUI on average\n",
    "    ivf_time = 12 # months to conceive with IVF on average\n",
    "    natural_lr /= natural_time\n",
    "    iui_lr /= iui_time\n",
    "    ivf_lr /= ivf_time\n",
    "\n",
    "    # Apply test results\n",
    "    if natural_test == 1:\n",
    "        natural_lr *= 10\n",
    "    else:\n",
    "        natural_lr *= 0.1\n",
    "    if iui_test == 1:\n",
    "        iui_lr *= 3\n",
    "    else:\n",
    "        iui_lr *= 0.3\n",
    "    if ivf_test == 1:\n",
    "        ivf_lr *= 7\n",
    "    else:\n",
    "        ivf_lr *= 0.7\n",
    "\n",
    "    # Calculate posterior probabilities using Bayes' theorem\n",
    "    natural_post = (natural_lr * prior_probs[0]) / ((natural_lr * prior_probs[0]) + ((1 - prior_probs[0]) * (1 - natural_lr)))\n",
    "    iui_post = (iui_lr * prior_probs[1]) / ((iui_lr * prior_probs[1]) + ((1 - prior_probs[1]) * (1 - iui_lr)))\n",
    "    ivf_post = (ivf_lr * prior_probs[2]) / ((ivf_lr * prior_probs[2]) + ((1 - prior_probs[2]) * (1 - ivf_lr)))\n",
    "\n",
    "    # Calculate overall probability of pregnancy\n",
    "    pregnancy_prob = np.sum([natural_post, iui_post, ivf_post])\n",
    "\n",
    "    # Calculate estimated time to pregnancy\n",
    "    natural_time_to_pregnancy = 1 / natural_post * natural_time\n",
    "    iui_time_to_pregnancy = 1 / iui_post * iui_time\n",
    "    ivf_time_to_pregnancy = 1 / ivf_post * ivf_time"
   ]
  },
  {
   "cell_type": "code",
   "execution_count": 5,
   "id": "75f86b26",
   "metadata": {},
   "outputs": [],
   "source": [
    "    # Prepare output for display\n",
    "    output = f\"Your chances of getting pregnant with natural means are {natural_post:.2%}. The estimated time to pregnancy is {natural_time_to_pregnancy:.1f} months.\\n\"\n",
    "    output += f\"Your chances of getting pregnant with IUI are {iui_post:.2%}. The estimated time to pregnancy is {iui_time_to_pregnancy:.1f} months.\\n\"\n",
    "    output += f\"Your chances of getting pregnant with IVF are {ivf_post:.2%}. The estimated time to pregnancy is {ivf_time_to_pregnancy:.1f} months.\\n\"\n",
    "    output += f\"Overall, your chance of getting pregnant through any method is {pregnancy_prob:.2%}.\"\n"
   ]
  },
  {
   "cell_type": "markdown",
   "id": "e6a66fc0",
   "metadata": {},
   "source": [
    "<form method=\"post\" action=\"/predict\">\n",
    "    <label for=\"age\">Age:</label>\n",
    "    <input type=\"number\" id=\"age\" name=\"age\" required>\n",
    "    <br>\n",
    "    <label for=\"fsh\">FSH level:</label>\n",
    "    <input type=\"number\" id=\"fsh\" name=\"fsh\" required>\n",
    "    <br>\n",
    "    <label for=\"amh\">AMH level:</label>\n",
    "    <input type=\"number\" id=\"amh\" name=\"amh\" required>\n",
    "    <br>\n",
    "    <label for=\"ovulation\">Days since last ovulation:</label>\n",
    "    <input type=\"number\" id=\"ovulation\" name=\"ovulation\" required>\n",
    "    <br>\n",
    "    <label for=\"pregnancies\">Number of previous pregnancies:</label>\n",
    "    <input type=\"number\" id=\"pregnancies\" name=\"pregnancies\" required>\n",
    "    <br>\n",
    "    <label for=\"miscarriages\">Number of previous miscarriages:</label>\n",
    "    <input type=\"number\" id=\"miscarriages\" name=\"miscarriages\" required>\n",
    "    <br>\n",
    "    <label for=\"attempts\">Number of previous attempts:</label>\n",
    "    <input type=\"number\" id=\"attempts\" name=\"attempts\" required>\n",
    "    <br>\n",
    "    <label for=\"method\">Preferred method (natural, iui, or ivf):</label>\n",
    "    <select id=\"method\" name=\"method\" required>\n",
    "        <option value=\"natural\">Natural</option>\n",
    "        <option value=\"iui\">IUI</option>\n",
    "        <option value=\"ivf\">IVF</option>\n",
    "    </select>\n",
    "    <br>\n",
    "    <input type=\"submit\" value=\"Submit\">\n",
    "</form>\n"
   ]
  },
  {
   "cell_type": "code",
   "execution_count": null,
   "id": "4fc0abec",
   "metadata": {},
   "outputs": [],
   "source": [
    "from flask import Flask, request, render_template\n",
    "\n",
    "app = Flask(__name__)\n",
    "\n",
    "@app.route('/predict', methods=['POST'])\n",
    "def predict():\n",
    "    age = int(request.form['age'])\n",
    "    fsh = float(request.form['fsh'])\n",
    "    amh = float(request.form['amh'])\n",
    "    ovulation = int(request.form['ovulation'])\n",
    "    pregnancies = int(request.form['pregnancies'])\n",
    "    miscarriages = int(request.form['miscarriages'])\n",
    "    attempts = int(request.form['attempts'])\n",
    "    method = request.form['method']\n",
    "\n",
    "    # Use the code above to compute the output\n",
    "    # ...\n",
    "\n",
    "    # Prepare the output for display\n",
    "    output = # ...\n",
    "\n",
    "    # Render an HTML template that displays the output to the user\n",
    "    return render_template('output.html', output=output)\n"
   ]
  },
  {
   "cell_type": "markdown",
   "id": "7846c8db",
   "metadata": {},
   "source": [
    "<!DOCTYPE html>\n",
    "<html>\n",
    "<head>\n",
    "    <title>Output</title>\n",
    "</head>\n",
    "<body>\n",
    "    <h1>Pregnancy prediction results:</h1>\n",
    "    <p>Based on the information you provided, your chances of getting pregnant are:</p>\n",
    "    <ul>\n",
    "        <li>Naturally: {{ natural_chance }}%</li>\n",
    "        <li>IUI: {{ iui_chance }}%</li>\n",
    "        <li>IVF: {{ ivf_chance }}%</li>\n",
    "    </ul>\n",
    "    <p>It is estimated that it will take:</p>\n",
    "    <ul>\n",
    "        <li>Naturally: {{ natural_time }} months</li>\n",
    "        <li>IUI: {{ iui_time }} months</li>\n",
    "        <li>IVF: {{ ivf_time }} months</li>\n",
    "    </ul>\n",
    "</body>\n",
    "</html>\n"
   ]
  }
 ],
 "metadata": {
  "kernelspec": {
   "display_name": "Python 3 (ipykernel)",
   "language": "python",
   "name": "python3"
  },
  "language_info": {
   "codemirror_mode": {
    "name": "ipython",
    "version": 3
   },
   "file_extension": ".py",
   "mimetype": "text/x-python",
   "name": "python",
   "nbconvert_exporter": "python",
   "pygments_lexer": "ipython3",
   "version": "3.9.13"
  }
 },
 "nbformat": 4,
 "nbformat_minor": 5
}
